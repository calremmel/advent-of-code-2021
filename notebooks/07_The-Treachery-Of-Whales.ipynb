{
 "cells": [
  {
   "cell_type": "code",
   "execution_count": 1,
   "id": "2622c0d8-fab9-414c-a1b2-fcafb2665d10",
   "metadata": {},
   "outputs": [],
   "source": [
    "%load_ext lab_black"
   ]
  },
  {
   "cell_type": "code",
   "execution_count": 2,
   "id": "ff19e2cf-1d14-4556-92fb-8423bb3d29f8",
   "metadata": {},
   "outputs": [],
   "source": [
    "from collections import Counter\n",
    "\n",
    "\n",
    "def load_crabs(filename):\n",
    "    with open(filename) as f:\n",
    "        temp = f.read().strip()\n",
    "    crabs = [int(x) for x in temp.split(\",\")]\n",
    "    return crabs\n",
    "\n",
    "\n",
    "def part_one(crabs):\n",
    "    positions = Counter(crabs)\n",
    "    min_position = min(positions.keys())\n",
    "    max_position = max(positions.keys())\n",
    "    fuel_costs = {}\n",
    "    for i in range(min_position, max_position):\n",
    "        cost = sum([abs(pos - i) * count for pos, count in positions.items()])\n",
    "        fuel_costs[i] = cost\n",
    "\n",
    "    return min(fuel_costs.values())\n",
    "\n",
    "\n",
    "def part_two(crabs):\n",
    "    positions = Counter(crabs)\n",
    "    min_position = min(positions.keys())\n",
    "    max_position = max(positions.keys()) + 1\n",
    "    fuel_costs = {}\n",
    "    for i in range(min_position, max_position):\n",
    "        cost = sum(\n",
    "            [sum(range(abs(pos - i) + 1)) * count for pos, count in positions.items()]\n",
    "        )\n",
    "        fuel_costs[i] = cost\n",
    "\n",
    "    return min(fuel_costs.values())\n",
    "\n",
    "\n",
    "def main():\n",
    "    crabs = load_crabs(\"../data/07_input.txt\")\n",
    "    print(part_one(crabs))\n",
    "    print(part_two(crabs))"
   ]
  },
  {
   "cell_type": "code",
   "execution_count": null,
   "id": "cd7388be-4574-43e0-90fd-be55f5796891",
   "metadata": {},
   "outputs": [],
   "source": []
  }
 ],
 "metadata": {
  "kernelspec": {
   "display_name": "Python 3 (ipykernel)",
   "language": "python",
   "name": "python3"
  },
  "language_info": {
   "codemirror_mode": {
    "name": "ipython",
    "version": 3
   },
   "file_extension": ".py",
   "mimetype": "text/x-python",
   "name": "python",
   "nbconvert_exporter": "python",
   "pygments_lexer": "ipython3",
   "version": "3.10.0"
  }
 },
 "nbformat": 4,
 "nbformat_minor": 5
}
