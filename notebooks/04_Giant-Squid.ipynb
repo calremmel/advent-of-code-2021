{
 "cells": [
  {
   "cell_type": "code",
   "execution_count": 78,
   "id": "6a9f0e34-912a-40dc-b41d-678a18b9b49b",
   "metadata": {},
   "outputs": [
    {
     "name": "stdout",
     "output_type": "stream",
     "text": [
      "The lab_black extension is already loaded. To reload it, use:\n",
      "  %reload_ext lab_black\n"
     ]
    }
   ],
   "source": [
    "%load_ext lab_black"
   ]
  },
  {
   "cell_type": "code",
   "execution_count": 199,
   "id": "e18f9a9e-fc19-45c3-9913-8b802c64206f",
   "metadata": {},
   "outputs": [],
   "source": [
    "from dataclasses import dataclass, field\n",
    "from typing import List\n",
    "\n",
    "\n",
    "@dataclass\n",
    "class Bingo:\n",
    "    \"\"\"Class representing a single bingo board.\"\"\"\n",
    "\n",
    "    board: str\n",
    "    draws: List = field(default_factory=lambda: [])\n",
    "    marks: List = field(\n",
    "        default_factory=lambda: [[False for i in range(5)] for j in range(5)]\n",
    "    )\n",
    "    moves: int = 0\n",
    "    score: int = 0\n",
    "    win: bool = False\n",
    "\n",
    "    def gen_matrix(self):\n",
    "        if self.board.endswith(\"\\n\"):\n",
    "            self.board = self.board[:-2]\n",
    "        board_list = self.board.split(\"\\n\")\n",
    "        matrix_str = [row.split() for row in board_list]\n",
    "        matrix_final = [[int(v) for v in r] for r in matrix_str]\n",
    "        self.matrix = matrix_final\n",
    "\n",
    "    def __post_init__(self):\n",
    "        self.gen_matrix()\n",
    "\n",
    "    def get_score(self):\n",
    "        last_draw = self.draws[-1]\n",
    "        unmarked = []\n",
    "        for mrow, brow in zip(self.marks, self.matrix):\n",
    "            for i in range(5):\n",
    "                if mrow[i] == False:\n",
    "                    unmarked.append(brow[i])\n",
    "        score = last_draw * sum(unmarked)\n",
    "        self.score = score\n",
    "\n",
    "    def check_win(self):\n",
    "        sums = []\n",
    "        cols = [[row[i] for row in self.marks] for i in range(5)]\n",
    "        for row in self.marks:\n",
    "            sums.append(sum(row))\n",
    "        for col in cols:\n",
    "            sums.append(sum(col))\n",
    "        if any([s == 5 for s in sums]):\n",
    "            self.win = True\n",
    "            self.get_score()\n",
    "\n",
    "    def move(self, draw):\n",
    "        if self.win == True:\n",
    "            return\n",
    "        self.draws.append(draw)\n",
    "        self.moves += 1\n",
    "        temp_marks = []\n",
    "        for row in self.matrix:\n",
    "            temp_row = [x in self.draws for x in row]\n",
    "            temp_marks.append(temp_row)\n",
    "        self.marks = temp_marks\n",
    "        pprint(self.marks)\n",
    "        self.check_win()\n",
    "\n",
    "\n",
    "def load_draws_boards(file):\n",
    "    with open(file) as f:\n",
    "        report = f.read()\n",
    "    report = report.split(\"\\n\\n\")\n",
    "    draws = [int(d) for d in report[0].split(\",\")]\n",
    "    return draws, report[1:]\n",
    "\n",
    "\n",
    "def parts_one_and_two():\n",
    "    draws, boards = load_draws_boards(\"../data/04_input.txt\")\n",
    "\n",
    "    bingos = [Bingo(board) for board in boards]\n",
    "\n",
    "    for draw in draws:\n",
    "        for bingo in bingos:\n",
    "            bingo.move(draw)\n",
    "\n",
    "    fewest_moves = min([b.moves for b in bingos])\n",
    "    most_moves = max([b.moves for b in bingos])\n",
    "\n",
    "    for i, b in enumerate(bingos):\n",
    "        if b.moves == fewest_moves:\n",
    "            print(f\"Fewest moves: {b.moves}. Score: {b.score}. Board #{i+1}\")\n",
    "        if b.moves == most_moves:\n",
    "            print(f\"Most moves: {b.moves}. Score: {b.score}. Board #{i+1}\")"
   ]
  },
  {
   "cell_type": "code",
   "execution_count": null,
   "id": "7c3b0f55-8ea3-4530-b487-79c12ae284a8",
   "metadata": {},
   "outputs": [],
   "source": []
  }
 ],
 "metadata": {
  "kernelspec": {
   "display_name": "Python 3 (ipykernel)",
   "language": "python",
   "name": "python3"
  },
  "language_info": {
   "codemirror_mode": {
    "name": "ipython",
    "version": 3
   },
   "file_extension": ".py",
   "mimetype": "text/x-python",
   "name": "python",
   "nbconvert_exporter": "python",
   "pygments_lexer": "ipython3",
   "version": "3.10.0"
  }
 },
 "nbformat": 4,
 "nbformat_minor": 5
}
