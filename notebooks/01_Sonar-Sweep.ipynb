{
 "cells": [
  {
   "cell_type": "code",
   "execution_count": 43,
   "id": "04c0ee20-a39b-4b53-bb80-602bb7daa71c",
   "metadata": {},
   "outputs": [],
   "source": [
    "def load_report(file):\n",
    "    with open(file) as f:\n",
    "        report = f.readlines()\n",
    "        report = [int(x.replace(\"\\n\", \"\")) for x in report]\n",
    "    return report\n",
    "\n",
    "def count_increases(report):\n",
    "    return sum([1 if (x - y) > 0 else 0 for x, y in zip(report[1:], report[:-1])])\n",
    "\n",
    "def rolling_window(iterable, size):\n",
    "    \"\"\"\n",
    "    :param iterable:\n",
    "    :param size:\n",
    "    \"\"\"\n",
    "    iter_length = len(iterable)\n",
    "    return [iterable[x:x+size] for x in range(iter_length - size + 1)]\n",
    "\n",
    "def part_one():\n",
    "    report = load_report('../data/01_input.txt')\n",
    "    increases = count_increases(report)\n",
    "    print(increases)\n",
    "    \n",
    "def part_two():\n",
    "    report = load_report('../data/01_input.txt')\n",
    "    windows = rolling_window(report, 3)\n",
    "    window_sums = [sum(w) for w in windows]\n",
    "    increases = count_increases(window_sums)\n",
    "    print(increases)\n",
    "\n",
    "part_one()\n",
    "\n",
    "part_two()"
   ]
  },
  {
   "cell_type": "code",
   "execution_count": null,
   "id": "af0bf8b6-4b4c-4cd0-bc91-2a0b092a8134",
   "metadata": {},
   "outputs": [],
   "source": []
  }
 ],
 "metadata": {
  "kernelspec": {
   "display_name": "Python 3 (ipykernel)",
   "language": "python",
   "name": "python3"
  },
  "language_info": {
   "codemirror_mode": {
    "name": "ipython",
    "version": 3
   },
   "file_extension": ".py",
   "mimetype": "text/x-python",
   "name": "python",
   "nbconvert_exporter": "python",
   "pygments_lexer": "ipython3",
   "version": "3.10.0"
  }
 },
 "nbformat": 4,
 "nbformat_minor": 5
}
