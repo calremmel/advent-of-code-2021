{
 "cells": [
  {
   "cell_type": "code",
   "execution_count": 2,
   "id": "9547b115-7408-4266-80d8-a4f44f85d523",
   "metadata": {},
   "outputs": [],
   "source": [
    "%load_ext lab_black"
   ]
  },
  {
   "cell_type": "code",
   "execution_count": 3,
   "id": "70ac7135-a57d-4c25-b869-d311cdd1fc14",
   "metadata": {},
   "outputs": [],
   "source": [
    "def load_report(file):\n",
    "    with open(file) as f:\n",
    "        report = f.readlines()\n",
    "        report = [int(x.replace(\"\\n\", \"\")) for x in report]\n",
    "    return report\n",
    "\n",
    "\n",
    "def count_increases(report):\n",
    "    return sum([1 if (x - y) > 0 else 0 for x, y in zip(report[1:], report[:-1])])\n",
    "\n",
    "\n",
    "def rolling_window(iterable, size):\n",
    "    \"\"\"\n",
    "    :param iterable: the iterable over which to make windows\n",
    "    :param size: length of desired windows\n",
    "    :returns: an iterable containing rolling windows\n",
    "    \"\"\"\n",
    "    iter_length = len(iterable)\n",
    "    return [iterable[x : x + size] for x in range(iter_length - size + 1)]\n",
    "\n",
    "\n",
    "def part_one():\n",
    "    report = load_report(\"../data/01_input.txt\")\n",
    "    increases = count_increases(report)\n",
    "    print(increases)\n",
    "\n",
    "\n",
    "def part_two():\n",
    "    report = load_report(\"../data/01_input.txt\")\n",
    "    windows = rolling_window(report, 3)\n",
    "    window_sums = [sum(w) for w in windows]\n",
    "    increases = count_increases(window_sums)\n",
    "    print(increases)"
   ]
  },
  {
   "cell_type": "code",
   "execution_count": 4,
   "id": "a4e5017a-5dcf-4bc7-9ffc-587a90323b92",
   "metadata": {},
   "outputs": [
    {
     "name": "stdout",
     "output_type": "stream",
     "text": [
      "1759\n"
     ]
    }
   ],
   "source": [
    "part_one()"
   ]
  },
  {
   "cell_type": "code",
   "execution_count": 5,
   "id": "b6614caa-72c9-42d3-a446-07b9334f5b04",
   "metadata": {},
   "outputs": [
    {
     "name": "stdout",
     "output_type": "stream",
     "text": [
      "1805\n"
     ]
    }
   ],
   "source": [
    "part_two()"
   ]
  },
  {
   "cell_type": "code",
   "execution_count": null,
   "id": "af0bf8b6-4b4c-4cd0-bc91-2a0b092a8134",
   "metadata": {},
   "outputs": [],
   "source": []
  }
 ],
 "metadata": {
  "kernelspec": {
   "display_name": "Python 3 (ipykernel)",
   "language": "python",
   "name": "python3"
  },
  "language_info": {
   "codemirror_mode": {
    "name": "ipython",
    "version": 3
   },
   "file_extension": ".py",
   "mimetype": "text/x-python",
   "name": "python",
   "nbconvert_exporter": "python",
   "pygments_lexer": "ipython3",
   "version": "3.10.0"
  }
 },
 "nbformat": 4,
 "nbformat_minor": 5
}
