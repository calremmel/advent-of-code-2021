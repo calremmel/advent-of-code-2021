{
 "cells": [
  {
   "cell_type": "code",
   "execution_count": 5,
   "id": "764c3e35-f57d-49fb-b0e0-e16e49c93cfd",
   "metadata": {},
   "outputs": [],
   "source": [
    "%load_ext lab_black"
   ]
  },
  {
   "cell_type": "code",
   "execution_count": 91,
   "id": "711b0e70-7eb2-4868-b6f2-e8995ae1d477",
   "metadata": {},
   "outputs": [],
   "source": [
    "from collections import Counter\n",
    "\n",
    "\n",
    "def load_diagnostic_matrix(file):\n",
    "    with open(file) as f:\n",
    "        report = f.readlines()\n",
    "    report = [(x.replace(\"\\n\", \"\")) for x in report]\n",
    "    return report\n",
    "\n",
    "\n",
    "def get_column(matrix, index):\n",
    "    \"\"\"\n",
    "    :param matrix: a list of iterables of the same length\n",
    "    :param index: zero-indexed column to select\n",
    "    :returns: column as string\n",
    "    \"\"\"\n",
    "    column = \"\".join([x[index] for x in matrix])\n",
    "    return column\n",
    "\n",
    "\n",
    "def get_power_consumption(matrix):\n",
    "    \"\"\"\n",
    "    :param matrix: a list of iterables of the same length\n",
    "    :returns: power consumption as int\n",
    "    \"\"\"\n",
    "    columns = [get_column(matrix, i) for i in range(len(matrix[0]))]\n",
    "\n",
    "    gamma_binary = \"\".join([Counter(col).most_common()[0][0] for col in columns])\n",
    "    epsilon_binary = \"\".join([Counter(col).most_common()[-1][0] for col in columns])\n",
    "    power_consumption = int(gamma_binary, 2) * int(epsilon_binary, 2)\n",
    "    return power_consumption\n",
    "\n",
    "\n",
    "def get_most_common(col):\n",
    "    counter = Counter(col)\n",
    "    if counter[\"1\"] >= counter[\"0\"]:\n",
    "        return \"1\"\n",
    "    else:\n",
    "        return \"0\"\n",
    "\n",
    "\n",
    "def get_least_common(col):\n",
    "    counter = Counter(col)\n",
    "    if counter[\"1\"] < counter[\"0\"]:\n",
    "        return \"1\"\n",
    "    else:\n",
    "        return \"0\"\n",
    "\n",
    "\n",
    "def get_og_rating(matrix):\n",
    "    temp_matrix = matrix\n",
    "    for i in range(len(matrix[0])):\n",
    "        col = get_column(temp_matrix, i)\n",
    "        keeper = get_most_common(col)\n",
    "        temp_matrix = [row for row in temp_matrix if row[i] == keeper]\n",
    "        if len(temp_matrix) == 1:\n",
    "            return temp_matrix[0]\n",
    "    return temp_matrix\n",
    "\n",
    "\n",
    "def get_cs_rating(matrix):\n",
    "    temp_matrix = matrix\n",
    "    for i in range(len(matrix[0])):\n",
    "        col = get_column(temp_matrix, i)\n",
    "        keeper = get_least_common(col)\n",
    "        temp_matrix = [row for row in temp_matrix if row[i] == keeper]\n",
    "        if len(temp_matrix) == 1:\n",
    "            return temp_matrix[0]\n",
    "    return temp_matrix\n",
    "\n",
    "\n",
    "def part_one():\n",
    "    matrix = load_diagnostic_matrix(\"../data/03_input.txt\")\n",
    "    power_consumption = get_power_consumption(matrix)\n",
    "    print(power_consumption)\n",
    "\n",
    "\n",
    "def part_two():\n",
    "    matrix = load_diagnostic_matrix(\"../data/03_input.txt\")\n",
    "    og_decimal = int(get_og_rating(matrix), 2)\n",
    "    cs_decimal = int(get_cs_rating(matrix), 2)\n",
    "    life_support = og_decimal * cs_decimal\n",
    "    print(life_support)"
   ]
  },
  {
   "cell_type": "markdown",
   "id": "769002c1-3f72-46f4-82dd-deb62b6524b3",
   "metadata": {
    "tags": []
   },
   "source": [
    "# --- Day 3: Binary Diagnostic ---\n",
    "The submarine has been making some odd creaking noises, so you ask it to produce a diagnostic report just in case.\n",
    "\n",
    "The diagnostic report (your puzzle input) consists of a list of binary numbers which, when decoded properly, can tell you many useful things about the conditions of the submarine. The first parameter to check is the power consumption.\n",
    "\n",
    "You need to use the binary numbers in the diagnostic report to generate two new binary numbers (called the gamma rate and the epsilon rate). The power consumption can then be found by multiplying the gamma rate by the epsilon rate.\n",
    "\n",
    "Each bit in the gamma rate can be determined by finding the most common bit in the corresponding position of all numbers in the diagnostic report. For example, given the following diagnostic report:\n",
    "\n",
    "```\n",
    "00100\n",
    "11110\n",
    "10110\n",
    "10111\n",
    "10101\n",
    "01111\n",
    "00111\n",
    "11100\n",
    "10000\n",
    "11001\n",
    "00010\n",
    "01010\n",
    "```\n",
    "\n",
    "Considering only the first bit of each number, there are five 0 bits and seven 1 bits. Since the most common bit is 1, the first bit of the gamma rate is 1.\n",
    "\n",
    "The most common second bit of the numbers in the diagnostic report is 0, so the second bit of the gamma rate is 0.\n",
    "\n",
    "The most common value of the third, fourth, and fifth bits are 1, 1, and 0, respectively, and so the final three bits of the gamma rate are 110.\n",
    "\n",
    "So, the gamma rate is the binary number 10110, or 22 in decimal.\n",
    "\n",
    "The epsilon rate is calculated in a similar way; rather than use the most common bit, the least common bit from each position is used. So, the epsilon rate is 01001, or 9 in decimal. Multiplying the gamma rate (22) by the epsilon rate (9) produces the power consumption, 198.\n",
    "\n",
    "Use the binary numbers in your diagnostic report to calculate the gamma rate and epsilon rate, then multiply them together. What is the power consumption of the submarine? (Be sure to represent your answer in decimal, not binary.)"
   ]
  },
  {
   "cell_type": "code",
   "execution_count": 89,
   "id": "8aeb03f6-8d97-4186-b51e-e0ed3e41cadb",
   "metadata": {},
   "outputs": [
    {
     "name": "stdout",
     "output_type": "stream",
     "text": [
      "4103154\n"
     ]
    }
   ],
   "source": [
    "part_one()"
   ]
  },
  {
   "cell_type": "markdown",
   "id": "3dbcab09-85e1-4db1-8cf6-041dea2bd386",
   "metadata": {},
   "source": [
    "# --- Part Two ---\n",
    "Next, you should verify the life support rating, which can be determined by multiplying the oxygen generator rating by the CO2 scrubber rating.\n",
    "\n",
    "Both the oxygen generator rating and the CO2 scrubber rating are values that can be found in your diagnostic report - finding them is the tricky part. Both values are located using a similar process that involves filtering out values until only one remains. Before searching for either rating value, start with the full list of binary numbers from your diagnostic report and consider just the first bit of those numbers. Then:\n",
    "\n",
    "Keep only numbers selected by the bit criteria for the type of rating value for which you are searching. Discard numbers which do not match the bit criteria.\n",
    "If you only have one number left, stop; this is the rating value for which you are searching.\n",
    "Otherwise, repeat the process, considering the next bit to the right.\n",
    "The bit criteria depends on which type of rating value you want to find:\n",
    "\n",
    "To find oxygen generator rating, determine the most common value (0 or 1) in the current bit position, and keep only numbers with that bit in that position. If 0 and 1 are equally common, keep values with a 1 in the position being considered.\n",
    "To find CO2 scrubber rating, determine the least common value (0 or 1) in the current bit position, and keep only numbers with that bit in that position. If 0 and 1 are equally common, keep values with a 0 in the position being considered.\n",
    "For example, to determine the oxygen generator rating value using the same example diagnostic report from above:\n",
    "\n",
    "Start with all 12 numbers and consider only the first bit of each number. There are more 1 bits (7) than 0 bits (5), so keep only the 7 numbers with a 1 in the first position: 11110, 10110, 10111, 10101, 11100, 10000, and 11001.\n",
    "Then, consider the second bit of the 7 remaining numbers: there are more 0 bits (4) than 1 bits (3), so keep only the 4 numbers with a 0 in the second position: 10110, 10111, 10101, and 10000.\n",
    "In the third position, three of the four numbers have a 1, so keep those three: 10110, 10111, and 10101.\n",
    "In the fourth position, two of the three numbers have a 1, so keep those two: 10110 and 10111.\n",
    "In the fifth position, there are an equal number of 0 bits and 1 bits (one each). So, to find the oxygen generator rating, keep the number with a 1 in that position: 10111.\n",
    "As there is only one number left, stop; the oxygen generator rating is 10111, or 23 in decimal.\n",
    "Then, to determine the CO2 scrubber rating value from the same example above:\n",
    "\n",
    "Start again with all 12 numbers and consider only the first bit of each number. There are fewer 0 bits (5) than 1 bits (7), so keep only the 5 numbers with a 0 in the first position: 00100, 01111, 00111, 00010, and 01010.\n",
    "Then, consider the second bit of the 5 remaining numbers: there are fewer 1 bits (2) than 0 bits (3), so keep only the 2 numbers with a 1 in the second position: 01111 and 01010.\n",
    "In the third position, there are an equal number of 0 bits and 1 bits (one each). So, to find the CO2 scrubber rating, keep the number with a 0 in that position: 01010.\n",
    "As there is only one number left, stop; the CO2 scrubber rating is 01010, or 10 in decimal.\n",
    "Finally, to find the life support rating, multiply the oxygen generator rating (23) by the CO2 scrubber rating (10) to get 230.\n",
    "\n",
    "Use the binary numbers in your diagnostic report to calculate the oxygen generator rating and CO2 scrubber rating, then multiply them together. What is the life support rating of the submarine? (Be sure to represent your answer in decimal, not binary.)"
   ]
  },
  {
   "cell_type": "code",
   "execution_count": 92,
   "id": "322cd7f1-4b8d-4ace-8ed9-dd483cb42829",
   "metadata": {},
   "outputs": [
    {
     "name": "stdout",
     "output_type": "stream",
     "text": [
      "4245351\n"
     ]
    }
   ],
   "source": [
    "part_two()"
   ]
  },
  {
   "cell_type": "code",
   "execution_count": null,
   "id": "18c67f9d-109b-4711-8f4d-37248a06ed7f",
   "metadata": {},
   "outputs": [],
   "source": []
  }
 ],
 "metadata": {
  "kernelspec": {
   "display_name": "Python 3 (ipykernel)",
   "language": "python",
   "name": "python3"
  },
  "language_info": {
   "codemirror_mode": {
    "name": "ipython",
    "version": 3
   },
   "file_extension": ".py",
   "mimetype": "text/x-python",
   "name": "python",
   "nbconvert_exporter": "python",
   "pygments_lexer": "ipython3",
   "version": "3.10.0"
  }
 },
 "nbformat": 4,
 "nbformat_minor": 5
}
