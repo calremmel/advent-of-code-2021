{
 "cells": [
  {
   "cell_type": "code",
   "execution_count": 1,
   "id": "2622c0d8-fab9-414c-a1b2-fcafb2665d10",
   "metadata": {},
   "outputs": [],
   "source": [
    "%load_ext lab_black"
   ]
  },
  {
   "cell_type": "code",
   "execution_count": 2,
   "id": "cace78d9-1513-4014-9b79-40b3886b5da0",
   "metadata": {},
   "outputs": [],
   "source": [
    "from collections import Counter, defaultdict\n",
    "\n",
    "\n",
    "def load_fish(file):\n",
    "    with open(file) as f:\n",
    "        fish = f.read().strip()\n",
    "    fish = fish.split(\",\")\n",
    "    fish = [int(i) for i in fish]\n",
    "    return fish\n",
    "\n",
    "\n",
    "def get_num_fish(fish, days):\n",
    "    counts = Counter(fish)\n",
    "    while days > 0:\n",
    "        new_counts = defaultdict(lambda: 0)\n",
    "        for k, v in counts.items():\n",
    "            if k == 0:\n",
    "                new_counts[6] += v\n",
    "                new_counts[8] += v\n",
    "            else:\n",
    "                new_counts[k - 1] += v\n",
    "        counts = new_counts\n",
    "        days -= 1\n",
    "\n",
    "    num_fish = sum(counts.values())\n",
    "    return num_fish\n",
    "\n",
    "\n",
    "def main():\n",
    "    fish = load_fish(\"../data/06_input.txt\")\n",
    "    part_one = get_num_fish(fish, 80)\n",
    "    print(part_one)\n",
    "    part_two = get_num_fish(fish, 256)\n",
    "    print(part_two)"
   ]
  },
  {
   "cell_type": "code",
   "execution_count": 3,
   "id": "394492e3-d02e-4242-adc2-bffc49478709",
   "metadata": {},
   "outputs": [
    {
     "name": "stdout",
     "output_type": "stream",
     "text": [
      "389726\n",
      "1743335992042\n"
     ]
    }
   ],
   "source": [
    "main()"
   ]
  },
  {
   "cell_type": "code",
   "execution_count": null,
   "id": "8e93d87d-605b-4ecc-9d24-888164af7bc7",
   "metadata": {},
   "outputs": [],
   "source": []
  }
 ],
 "metadata": {
  "kernelspec": {
   "display_name": "Python 3 (ipykernel)",
   "language": "python",
   "name": "python3"
  },
  "language_info": {
   "codemirror_mode": {
    "name": "ipython",
    "version": 3
   },
   "file_extension": ".py",
   "mimetype": "text/x-python",
   "name": "python",
   "nbconvert_exporter": "python",
   "pygments_lexer": "ipython3",
   "version": "3.10.0"
  }
 },
 "nbformat": 4,
 "nbformat_minor": 5
}
