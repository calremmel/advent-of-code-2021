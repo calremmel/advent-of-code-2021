{
 "cells": [
  {
   "cell_type": "code",
   "execution_count": 1,
   "id": "87811760-845a-4598-b03d-ed3f829711ee",
   "metadata": {},
   "outputs": [],
   "source": [
    "%load_ext lab_black"
   ]
  },
  {
   "cell_type": "code",
   "execution_count": 2,
   "id": "167bb0db-0a25-4c1f-bb20-432cf0bea2f5",
   "metadata": {},
   "outputs": [],
   "source": [
    "def load_heightmap(file):\n",
    "    with open(file) as f:\n",
    "        heightmap = f.read().strip()\n",
    "    matrix = [[int(i) for i in row] for row in heightmap.split(\"\\n\")]\n",
    "    return matrix\n",
    "\n",
    "\n",
    "def get_neighbors(matrix, point):\n",
    "    i, j = point\n",
    "    neighbors = [(i - 1, j), (i + 1, j), (i, j - 1), (i, j + 1)]\n",
    "    neighbors = [\n",
    "        (x, y)\n",
    "        for x, y in neighbors\n",
    "        if all([x >= 0, x < len(matrix), y >= 0, y < len(matrix[0])])\n",
    "    ]\n",
    "    return neighbors\n",
    "\n",
    "\n",
    "def get_low_points(matrix):\n",
    "    low_points = []\n",
    "    for i, row in enumerate(matrix):\n",
    "        for j, value in enumerate(row):\n",
    "            neighbors = get_neighbors(matrix, (i, j))\n",
    "            if all([value < matrix[x][y] for x, y in neighbors]):\n",
    "                low_points.append((i, j))\n",
    "    return low_points\n",
    "\n",
    "\n",
    "def part_one(matrix):\n",
    "    low_points = get_low_points(matrix)\n",
    "    low_values = [matrix[x][y] for x, y in low_points]\n",
    "    sum_risk = sum([p + 1 for p in low_values])\n",
    "    return sum_risk\n",
    "\n",
    "\n",
    "def get_basin(matrix, point):\n",
    "    checked = []\n",
    "    basin_members = [point]\n",
    "    while not all([b in checked for b in basin_members]):\n",
    "        to_check = [b for b in basin_members if b not in checked]\n",
    "        for p in to_check:\n",
    "            new_members = get_basin_members(matrix, p)\n",
    "            checked.append(p)\n",
    "            basin_members += new_members\n",
    "    return set(basin_members)\n",
    "\n",
    "\n",
    "def get_basin_members(matrix, point):\n",
    "    value = matrix[point[0]][point[1]]\n",
    "    ns = get_neighbors(matrix, point)\n",
    "    return [n for n in ns if (matrix[n[0]][n[1]] < 9) & (matrix[n[0]][n[1]] > value)]\n",
    "\n",
    "\n",
    "def part_two(matrix):\n",
    "    low_points = get_low_points(matrix)\n",
    "    basin_sizes = []\n",
    "    for point in low_points:\n",
    "        basin_sizes.append(len(get_basin(matrix, point)))\n",
    "\n",
    "    top_3 = sorted(basin_sizes)[-3:]\n",
    "\n",
    "    return top_3[0] * top_3[1] * top_3[2]"
   ]
  },
  {
   "cell_type": "code",
   "execution_count": 3,
   "id": "e861f4ac-ddcc-4748-89c8-4ac39f22d8dc",
   "metadata": {},
   "outputs": [
    {
     "name": "stdout",
     "output_type": "stream",
     "text": [
      "456\n",
      "1047744\n"
     ]
    }
   ],
   "source": [
    "matrix = load_heightmap(\"../data/09_input.txt\")\n",
    "print(part_one(matrix))\n",
    "print(part_two(matrix))"
   ]
  },
  {
   "cell_type": "code",
   "execution_count": null,
   "id": "fb0de181-ab46-4f27-a395-9d2385bf2cc2",
   "metadata": {},
   "outputs": [],
   "source": []
  }
 ],
 "metadata": {
  "kernelspec": {
   "display_name": "Python 3 (ipykernel)",
   "language": "python",
   "name": "python3"
  },
  "language_info": {
   "codemirror_mode": {
    "name": "ipython",
    "version": 3
   },
   "file_extension": ".py",
   "mimetype": "text/x-python",
   "name": "python",
   "nbconvert_exporter": "python",
   "pygments_lexer": "ipython3",
   "version": "3.10.0"
  }
 },
 "nbformat": 4,
 "nbformat_minor": 5
}
