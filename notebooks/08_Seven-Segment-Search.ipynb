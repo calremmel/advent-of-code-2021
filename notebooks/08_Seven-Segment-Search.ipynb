{
 "cells": [
  {
   "cell_type": "code",
   "execution_count": 1,
   "id": "b2e65b1b-54d8-42ae-93ef-6829298e38ac",
   "metadata": {},
   "outputs": [],
   "source": [
    "%load_ext lab_black"
   ]
  },
  {
   "cell_type": "code",
   "execution_count": 2,
   "id": "b1d1d4ef-e3f1-49d2-9ab3-d53a40071150",
   "metadata": {},
   "outputs": [],
   "source": [
    "from collections import Counter\n",
    "\n",
    "\n",
    "digits_segments = {\n",
    "    0: \"abcefg\",\n",
    "    1: \"cf\",\n",
    "    2: \"acdeg\",\n",
    "    3: \"acdfg\",\n",
    "    4: \"bcdf\",\n",
    "    5: \"abdfg\",\n",
    "    6: \"abdefg\",\n",
    "    7: \"acf\",\n",
    "    8: \"abcdefg\",\n",
    "    9: \"abcdfg\",\n",
    "}\n",
    "\n",
    "segments_digits = {\"\".join(sorted(v)): k for k, v in digits_segments.items()}\n",
    "\n",
    "\n",
    "def part_one():\n",
    "    with open(\"../data/08_input.txt\") as f:\n",
    "        in_outs = f.read().strip()\n",
    "    in_outs = [x.split(\" | \") for x in in_outs.split(\"\\n\")]\n",
    "    outs = [len(x) for pair in in_outs for x in pair[1].split()]\n",
    "    counts = Counter(outs)\n",
    "    unique_lengths = [2, 4, 3, 7]\n",
    "    unique_count = sum([v for k, v in counts.items() if k in unique_lengths])\n",
    "    return unique_count\n",
    "\n",
    "\n",
    "def translate_line(line):\n",
    "    ins, outs = line.split(\" | \")\n",
    "    ins_counts = Counter(ins.replace(\" \", \"\"))\n",
    "\n",
    "    wire_map = {}\n",
    "\n",
    "    for i in ins.split():\n",
    "        if len(i) == 2:\n",
    "            one = i\n",
    "        elif len(i) == 4:\n",
    "            four = i\n",
    "        elif len(i) == 3:\n",
    "            seven = i\n",
    "        elif len(i) == 7:\n",
    "            eight = i\n",
    "\n",
    "    for k, v in ins_counts.items():\n",
    "        if v == 4:\n",
    "            wire_map[\"e\"] = k\n",
    "        elif v == 6:\n",
    "            wire_map[\"b\"] = k\n",
    "        elif v == 9:\n",
    "            wire_map[\"f\"] = k\n",
    "\n",
    "    wire_map[\"a\"] = list(set(seven) - set(one))[0]\n",
    "    wire_map[\"c\"] = list(set(seven) - set([wire_map[wire] for wire in \"af\"]))[0]\n",
    "    wire_map[\"d\"] = list(set(four) - set([wire_map[wire] for wire in \"bcf\"]))[0]\n",
    "    wire_map[\"g\"] = list(set(eight) - set([wire_map[wire] for wire in \"abcdef\"]))[0]\n",
    "\n",
    "    reverse_wire = {v: k for k, v in wire_map.items()}\n",
    "    reverse_wire[\" \"] = \" \"\n",
    "\n",
    "    translated_out = \"\".join([reverse_wire[x] for x in outs])\n",
    "    digit_keys = [\"\".join(sorted(x)) for x in translated_out.split()]\n",
    "    out_digits = int(\"\".join([str(segments_digits[k]) for k in digit_keys]))\n",
    "\n",
    "    return out_digits\n",
    "\n",
    "\n",
    "def part_two():\n",
    "    with open(\"../data/08_input.txt\") as f:\n",
    "        in_outs = f.read().strip()\n",
    "    return sum([translate_line(line) for line in in_outs.split(\"\\n\")])"
   ]
  },
  {
   "cell_type": "code",
   "execution_count": 3,
   "id": "a8f844eb-fa57-4ebc-9214-7a127ffcc811",
   "metadata": {},
   "outputs": [
    {
     "name": "stdout",
     "output_type": "stream",
     "text": [
      "456\n",
      "1091609\n"
     ]
    }
   ],
   "source": [
    "one = part_one()\n",
    "two = part_two()\n",
    "print(one)\n",
    "print(two)"
   ]
  },
  {
   "cell_type": "code",
   "execution_count": null,
   "id": "165b57f5-70db-4c20-bd17-fa1e09ef4508",
   "metadata": {},
   "outputs": [],
   "source": []
  }
 ],
 "metadata": {
  "kernelspec": {
   "display_name": "Python 3 (ipykernel)",
   "language": "python",
   "name": "python3"
  },
  "language_info": {
   "codemirror_mode": {
    "name": "ipython",
    "version": 3
   },
   "file_extension": ".py",
   "mimetype": "text/x-python",
   "name": "python",
   "nbconvert_exporter": "python",
   "pygments_lexer": "ipython3",
   "version": "3.10.0"
  }
 },
 "nbformat": 4,
 "nbformat_minor": 5
}
