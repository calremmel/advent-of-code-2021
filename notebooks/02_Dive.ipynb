{
 "cells": [
  {
   "cell_type": "code",
   "execution_count": 43,
   "id": "a3103a3a-002c-4f6f-a082-a56360798a3c",
   "metadata": {},
   "outputs": [
    {
     "name": "stdout",
     "output_type": "stream",
     "text": [
      "2150351\n",
      "1842742223\n"
     ]
    }
   ],
   "source": [
    "from dataclasses import dataclass\n",
    "\n",
    "@dataclass\n",
    "class SubmarineOne:\n",
    "    \"\"\"Class for tracking position of a submarine.\"\"\"\n",
    "    horizontal: int\n",
    "    depth: int\n",
    "    \n",
    "    def move(self, direction, distance):\n",
    "        if direction == \"forward\":\n",
    "            self.horizontal += distance\n",
    "        elif direction == \"down\":\n",
    "            self.depth += distance\n",
    "        elif direction == \"up\":\n",
    "            self.depth -= distance\n",
    "        else:\n",
    "            print(\"Invalid direction\")\n",
    "\n",
    "@dataclass\n",
    "class SubmarineTwo:\n",
    "    \"\"\"Class for tracking position of a submarine.\"\"\"\n",
    "    horizontal: int\n",
    "    depth: int\n",
    "    aim: int\n",
    "    \n",
    "    def move(self, direction, distance):\n",
    "        if direction == \"forward\":\n",
    "            self.horizontal += distance\n",
    "            self.depth += self.aim * distance\n",
    "        elif direction == \"down\":\n",
    "            self.aim += distance\n",
    "        elif direction == \"up\":\n",
    "            self.aim -= distance\n",
    "        else:\n",
    "            print(\"Invalid direction\")\n",
    "\n",
    "def load_course(file):\n",
    "    with open(file) as f:\n",
    "        report = f.readlines()\n",
    "    report = [(x.replace(\"\\n\", \"\")) for x in report]\n",
    "    report = [(x.split(\" \")[0], int(x.split(\" \")[1])) for x in report]\n",
    "    return report\n",
    "\n",
    "def part_one():\n",
    "    course = load_course('../data/02_input.txt')\n",
    "    sub = SubmarineOne(0,0)\n",
    "    for direction, distance in course:\n",
    "        sub.move(direction, distance)\n",
    "    print(sub.horizontal * sub.depth)\n",
    "    \n",
    "def part_two():\n",
    "    course = load_course('../data/02_input.txt')\n",
    "    sub = SubmarineTwo(0,0,0)\n",
    "    for direction, distance in course:\n",
    "        sub.move(direction, distance)\n",
    "    print(sub.horizontal * sub.depth)\n",
    "\n",
    "part_one()\n",
    "part_two()"
   ]
  },
  {
   "cell_type": "code",
   "execution_count": null,
   "id": "bb42d46f-2802-46da-a68c-d2d00ae60b99",
   "metadata": {},
   "outputs": [],
   "source": []
  }
 ],
 "metadata": {
  "kernelspec": {
   "display_name": "Python 3 (ipykernel)",
   "language": "python",
   "name": "python3"
  },
  "language_info": {
   "codemirror_mode": {
    "name": "ipython",
    "version": 3
   },
   "file_extension": ".py",
   "mimetype": "text/x-python",
   "name": "python",
   "nbconvert_exporter": "python",
   "pygments_lexer": "ipython3",
   "version": "3.10.0"
  }
 },
 "nbformat": 4,
 "nbformat_minor": 5
}
