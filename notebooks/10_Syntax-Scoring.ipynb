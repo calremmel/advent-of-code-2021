{
 "cells": [
  {
   "cell_type": "code",
   "execution_count": 1,
   "id": "2990dd69-7270-46c7-bb49-1520467fc5fb",
   "metadata": {},
   "outputs": [],
   "source": [
    "%load_ext lab_black"
   ]
  },
  {
   "cell_type": "code",
   "execution_count": 2,
   "id": "f5a75e06-e341-4c3e-983f-d98692d1cfba",
   "metadata": {},
   "outputs": [],
   "source": [
    "from itertools import pairwise\n",
    "\n",
    "\n",
    "def load_nav_lines(file):\n",
    "    with open(file) as f:\n",
    "        nav_lines = f.readlines()\n",
    "        nav_lines = [line.strip() for line in nav_lines]\n",
    "    return nav_lines\n",
    "\n",
    "\n",
    "def get_illegal_character(line):\n",
    "    valid_pairs = [\"()\", \"{}\", \"[]\", \"<>\"]\n",
    "    temp = line\n",
    "    while any([pair in temp for pair in valid_pairs]):\n",
    "        for pair in valid_pairs:\n",
    "            temp = temp.replace(pair, \"\")\n",
    "    if not any([x in \"}]>)\" for x in temp]):\n",
    "        return \"Incomplete\"\n",
    "    else:\n",
    "        for a, b in pairwise(temp):\n",
    "            if b in \"}]>)\":\n",
    "                return b\n",
    "\n",
    "\n",
    "def get_incomplete_line(line):\n",
    "    valid_pairs = [\"()\", \"{}\", \"[]\", \"<>\"]\n",
    "    temp = line\n",
    "    while any([pair in temp for pair in valid_pairs]):\n",
    "        for pair in valid_pairs:\n",
    "            temp = temp.replace(pair, \"\")\n",
    "    if not any([x in \"}]>)\" for x in temp]):\n",
    "        return temp\n",
    "    return \"Illegal\"\n",
    "\n",
    "\n",
    "def part_one(nav_lines):\n",
    "    results = [get_illegal_character(line) for line in nav_lines]\n",
    "    illegal = [x for x in results if x != \"Incomplete\"]\n",
    "    scoring_map = {\")\": 3, \"]\": 57, \"}\": 1197, \">\": 25137}\n",
    "    scores = [scoring_map[x] for x in illegal]\n",
    "    final_score = sum(scores)\n",
    "    return final_score\n",
    "\n",
    "\n",
    "def score_closer(closer):\n",
    "    scoring_map = {\")\": 1, \"]\": 2, \"}\": 3, \">\": 4}\n",
    "    score = 0\n",
    "    for x in closer:\n",
    "        score = score * 5\n",
    "        score += scoring_map[x]\n",
    "    return score\n",
    "\n",
    "\n",
    "def part_two(nav_lines):\n",
    "    swap_map = {\"{\": \"}\", \"(\": \")\", \"<\": \">\", \"[\": \"]\"}\n",
    "    results = [get_incomplete_line(line) for line in nav_lines]\n",
    "    incompletes = [x for x in results if x != \"Illegal\"]\n",
    "    closers = [\"\".join([swap_map[i] for i in x])[::-1] for x in incompletes]\n",
    "    scores = [score_closer(c) for c in closers]\n",
    "    scores = sorted(scores)\n",
    "    med_idx = int(len(scores) / 2)\n",
    "    final_score = scores[med_idx]\n",
    "    return final_score"
   ]
  },
  {
   "cell_type": "code",
   "execution_count": 3,
   "id": "427bdbac-6fbb-44f9-9f77-7e7de2647fed",
   "metadata": {},
   "outputs": [
    {
     "name": "stdout",
     "output_type": "stream",
     "text": [
      "392367\n",
      "2192104158\n"
     ]
    }
   ],
   "source": [
    "nav_lines = load_nav_lines(\"../data/10_input.txt\")\n",
    "print(part_one(nav_lines))\n",
    "print(part_two(nav_lines))"
   ]
  },
  {
   "cell_type": "code",
   "execution_count": null,
   "id": "47327d58-d3d7-41b2-aa1c-80ff62705a9c",
   "metadata": {},
   "outputs": [],
   "source": []
  }
 ],
 "metadata": {
  "kernelspec": {
   "display_name": "Python 3 (ipykernel)",
   "language": "python",
   "name": "python3"
  },
  "language_info": {
   "codemirror_mode": {
    "name": "ipython",
    "version": 3
   },
   "file_extension": ".py",
   "mimetype": "text/x-python",
   "name": "python",
   "nbconvert_exporter": "python",
   "pygments_lexer": "ipython3",
   "version": "3.10.0"
  }
 },
 "nbformat": 4,
 "nbformat_minor": 5
}
