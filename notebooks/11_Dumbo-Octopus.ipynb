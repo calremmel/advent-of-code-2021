{
 "cells": [
  {
   "cell_type": "code",
   "execution_count": 9,
   "id": "20650272-48ba-43ba-b842-b9024226bdb2",
   "metadata": {},
   "outputs": [
    {
     "name": "stdout",
     "output_type": "stream",
     "text": [
      "The lab_black extension is already loaded. To reload it, use:\n",
      "  %reload_ext lab_black\n"
     ]
    }
   ],
   "source": [
    "%load_ext lab_black"
   ]
  },
  {
   "cell_type": "code",
   "execution_count": 11,
   "id": "3165fa46-0ac6-4aa8-a820-15cced04ed54",
   "metadata": {},
   "outputs": [],
   "source": [
    "from pprint import pprint\n",
    "\n",
    "dumbos_str = \"\"\"4438624262\n",
    "6263251864\n",
    "2618812434\n",
    "2134264565\n",
    "1815131247\n",
    "2612457325\n",
    "8585767584\n",
    "7217134556\n",
    "2825456563\n",
    "8248473584\"\"\"\n",
    "\n",
    "\n",
    "def get_surrounding(matrix, x, y):\n",
    "    surrounding = []\n",
    "    for i in range(-1, 2):\n",
    "        for j in range(-1, 2):\n",
    "            surrounding.append((x + i, y + j))\n",
    "    surrounding = [x for x in surrounding if not any([i < 0 for i in x])]\n",
    "    surrounding = [x for x in surrounding if x[0] < len(matrix[0])]\n",
    "    surrounding = [x for x in surrounding if x[1] < len(matrix)]\n",
    "    return surrounding\n",
    "\n",
    "\n",
    "def flash(matrix, x, y):\n",
    "    idx = get_surrounding(matrix, x, y)\n",
    "    temp = matrix\n",
    "    temp[x][y] = \"F\"\n",
    "    for i, j in idx:\n",
    "        if temp[i][j] in [\"F\", \"P\"]:\n",
    "            continue\n",
    "        elif temp[i][j] < 9:\n",
    "            temp[i][j] += 1\n",
    "        elif temp[i][j] == 9:\n",
    "            temp[i][j] = \"P\"\n",
    "    return temp\n",
    "\n",
    "\n",
    "def step(temp_dumbos):\n",
    "    count_flashes = 0\n",
    "    incremented_dumbos = [\n",
    "        [dumbo + 1 if dumbo != 9 else \"P\" for dumbo in line] for line in temp_dumbos\n",
    "    ]\n",
    "    flashed_dumbos = incremented_dumbos.copy()\n",
    "    while any([d == \"P\" for row in flashed_dumbos for d in row]):\n",
    "        for x in range(len(flashed_dumbos)):\n",
    "            for y in range(len(flashed_dumbos[0])):\n",
    "                if flashed_dumbos[x][y] == \"P\":\n",
    "                    count_flashes += 1\n",
    "                    flashed_dumbos = flash(flashed_dumbos, x, y)\n",
    "    stepped_dumbos = [\n",
    "        [dumbo if dumbo != \"F\" else 0 for dumbo in line] for line in flashed_dumbos\n",
    "    ]\n",
    "    return stepped_dumbos, count_flashes\n",
    "\n",
    "\n",
    "def part_one(dumbos_str):\n",
    "    dumbos = [[int(dumbo) for dumbo in line] for line in dumbos_str.split(\"\\n\")]\n",
    "\n",
    "    total = 0\n",
    "    for x in range(100):\n",
    "        dumbos, count = step(dumbos)\n",
    "        total += count\n",
    "    return total\n",
    "\n",
    "\n",
    "def part_two(dumbos_str):\n",
    "    dumbos = [[int(dumbo) for dumbo in line] for line in dumbos_str.split(\"\\n\")]\n",
    "\n",
    "    total = 0\n",
    "    steps = 0\n",
    "    for x in range(1000):\n",
    "        steps += 1\n",
    "        dumbos, count = step(dumbos)\n",
    "        total += count\n",
    "        if all([d == 0 for row in dumbos for d in row]):\n",
    "            break\n",
    "    return steps\n",
    "\n",
    "\n",
    "def main():\n",
    "    part_one(dumbos_str)\n",
    "    part_two(dumbos_str)"
   ]
  },
  {
   "cell_type": "code",
   "execution_count": null,
   "id": "c943e161-b6ba-4b09-ae9d-ef1d286cbd93",
   "metadata": {},
   "outputs": [],
   "source": []
  }
 ],
 "metadata": {
  "kernelspec": {
   "display_name": "Python 3 (ipykernel)",
   "language": "python",
   "name": "python3"
  },
  "language_info": {
   "codemirror_mode": {
    "name": "ipython",
    "version": 3
   },
   "file_extension": ".py",
   "mimetype": "text/x-python",
   "name": "python",
   "nbconvert_exporter": "python",
   "pygments_lexer": "ipython3",
   "version": "3.9.6"
  }
 },
 "nbformat": 4,
 "nbformat_minor": 5
}
